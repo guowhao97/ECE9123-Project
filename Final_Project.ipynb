{
  "nbformat": 4,
  "nbformat_minor": 0,
  "metadata": {
    "kernelspec": {
      "display_name": "Python 3",
      "language": "python",
      "name": "python3"
    },
    "language_info": {
      "codemirror_mode": {
        "name": "ipython",
        "version": 3
      },
      "file_extension": ".py",
      "mimetype": "text/x-python",
      "name": "python",
      "nbconvert_exporter": "python",
      "pygments_lexer": "ipython3",
      "version": "3.7.1"
    },
    "colab": {
      "name": "Final_Project.ipynb",
      "provenance": [],
      "collapsed_sections": [],
      "toc_visible": true
    }
  },
  "cells": [
    {
      "cell_type": "markdown",
      "metadata": {
        "id": "g15qf8nZAKr8"
      },
      "source": [
        ""
      ]
    },
    {
      "cell_type": "markdown",
      "metadata": {
        "id": "R4UawvZ7ALAb"
      },
      "source": [
        "## 1. Import Data"
      ]
    },
    {
      "cell_type": "code",
      "metadata": {
        "id": "XeOGVyPLujQW"
      },
      "source": [
        "# Import pandas \n",
        "import numpy as np \n",
        "import pandas as pd\n",
        "\n",
        "# Import time to measure how long processing takes\n",
        "import time\n",
        "\n",
        "# Import sklearn modules for model building\n",
        "from sklearn.ensemble import GradientBoostingRegressor\n",
        "from sklearn import pipeline\n",
        "from sklearn.model_selection import GridSearchCV\n",
        "from sklearn.base import BaseEstimator, TransformerMixin\n",
        "from sklearn.pipeline import FeatureUnion, Pipeline\n",
        "from sklearn.decomposition import TruncatedSVD\n",
        "from sklearn.feature_extraction.text import TfidfVectorizer\n",
        "from sklearn.metrics import mean_squared_error, make_scorer\n",
        "\n",
        "# Import the Snowball stemmer for stemming operations\n",
        "from nltk.stem.snowball import SnowballStemmer\n",
        "\n",
        "# Import regex for cleaning and other data processng\n",
        "import re\n",
        "\n",
        "\n",
        "import random\n",
        "from collections import Counter\n",
        "\n",
        "# Import matplotlib colors for color identification in queries\n",
        "from matplotlib import colors as mcolors\n",
        "import matplotlib.pyplot as plt\n",
        "\n",
        "# Import requests and json for search requests to google\n",
        "import requests, json\n",
        "\n",
        "# Import StringIO to handle the attributes file formatting errors on import\n",
        "from io import StringIO"
      ],
      "execution_count": null,
      "outputs": []
    },
    {
      "cell_type": "code",
      "metadata": {
        "colab": {
          "base_uri": "https://localhost:8080/"
        },
        "id": "F0veY7o9_eVl",
        "outputId": "563fdd9b-041f-41b7-c4f1-de50867a5f43"
      },
      "source": [
        "from google.colab import drive\n",
        "drive.mount('/content/drive')"
      ],
      "execution_count": null,
      "outputs": [
        {
          "output_type": "stream",
          "text": [
            "Mounted at /content/drive\n"
          ],
          "name": "stdout"
        }
      ]
    },
    {
      "cell_type": "code",
      "metadata": {
        "id": "SgT2YJsl_cCZ"
      },
      "source": [
        "df_train=pd.read_csv('./drive/MyDrive/train.csv')\n",
        "df_test=pd.read_csv('./drive/MyDrive/test.csv')"
      ],
      "execution_count": null,
      "outputs": []
    },
    {
      "cell_type": "markdown",
      "metadata": {
        "id": "Zc-N4G_IujQX"
      },
      "source": [
        "## 2. Dataset Overview"
      ]
    },
    {
      "cell_type": "code",
      "metadata": {
        "scrolled": true,
        "colab": {
          "base_uri": "https://localhost:8080/",
          "height": 465
        },
        "id": "WMZaPid7ujQY",
        "outputId": "cc1b4227-c646-400b-f441-9a0b003cbb7d"
      },
      "source": [
        "# Print the imported tables for initial examination\n",
        "print('train')\n",
        "display(df_train.head(),df_train.shape)\n",
        "print('test')\n",
        "display(df_test.head(),df_test.shape)\n",
        "'''\n",
        "print('product_description')\n",
        "display(df_pro_desc.head(),df_pro_desc.shape)\n",
        "print('product_extended_information')\n",
        "display(df_attr.head(),df_attr.shape)\n",
        "'''"
      ],
      "execution_count": null,
      "outputs": [
        {
          "output_type": "stream",
          "text": [
            "train\n"
          ],
          "name": "stdout"
        },
        {
          "output_type": "display_data",
          "data": {
            "text/html": [
              "<div>\n",
              "<style scoped>\n",
              "    .dataframe tbody tr th:only-of-type {\n",
              "        vertical-align: middle;\n",
              "    }\n",
              "\n",
              "    .dataframe tbody tr th {\n",
              "        vertical-align: top;\n",
              "    }\n",
              "\n",
              "    .dataframe thead th {\n",
              "        text-align: right;\n",
              "    }\n",
              "</style>\n",
              "<table border=\"1\" class=\"dataframe\">\n",
              "  <thead>\n",
              "    <tr style=\"text-align: right;\">\n",
              "      <th></th>\n",
              "      <th>id</th>\n",
              "      <th>query</th>\n",
              "      <th>product_title</th>\n",
              "      <th>product_description</th>\n",
              "      <th>median_relevance</th>\n",
              "      <th>relevance_variance</th>\n",
              "    </tr>\n",
              "  </thead>\n",
              "  <tbody>\n",
              "    <tr>\n",
              "      <th>0</th>\n",
              "      <td>1</td>\n",
              "      <td>bridal shower decorations</td>\n",
              "      <td>Accent Pillow with Heart Design - Red/Black</td>\n",
              "      <td>Red satin accent pillow embroidered with a hea...</td>\n",
              "      <td>1</td>\n",
              "      <td>0.000</td>\n",
              "    </tr>\n",
              "    <tr>\n",
              "      <th>1</th>\n",
              "      <td>2</td>\n",
              "      <td>led christmas lights</td>\n",
              "      <td>Set of 10 Battery Operated Multi LED Train Chr...</td>\n",
              "      <td>Set of 10 Battery Operated Train Christmas Lig...</td>\n",
              "      <td>4</td>\n",
              "      <td>0.000</td>\n",
              "    </tr>\n",
              "    <tr>\n",
              "      <th>2</th>\n",
              "      <td>4</td>\n",
              "      <td>projector</td>\n",
              "      <td>ViewSonic Pro8200 DLP Multimedia Projector</td>\n",
              "      <td>NaN</td>\n",
              "      <td>4</td>\n",
              "      <td>0.471</td>\n",
              "    </tr>\n",
              "    <tr>\n",
              "      <th>3</th>\n",
              "      <td>5</td>\n",
              "      <td>wine rack</td>\n",
              "      <td>Concept Housewares WR-44526 Solid-Wood Ceiling...</td>\n",
              "      <td>Like a silent and sturdy tree, the Southern En...</td>\n",
              "      <td>4</td>\n",
              "      <td>0.000</td>\n",
              "    </tr>\n",
              "    <tr>\n",
              "      <th>4</th>\n",
              "      <td>7</td>\n",
              "      <td>light bulb</td>\n",
              "      <td>Wintergreen Lighting Christmas LED Light Bulb ...</td>\n",
              "      <td>WTGR1011\\nFeatures\\nNickel base, 60,000 averag...</td>\n",
              "      <td>2</td>\n",
              "      <td>0.471</td>\n",
              "    </tr>\n",
              "  </tbody>\n",
              "</table>\n",
              "</div>"
            ],
            "text/plain": [
              "   id                      query  ... median_relevance relevance_variance\n",
              "0   1  bridal shower decorations  ...                1              0.000\n",
              "1   2       led christmas lights  ...                4              0.000\n",
              "2   4                  projector  ...                4              0.471\n",
              "3   5                  wine rack  ...                4              0.000\n",
              "4   7                 light bulb  ...                2              0.471\n",
              "\n",
              "[5 rows x 6 columns]"
            ]
          },
          "metadata": {
            "tags": []
          }
        },
        {
          "output_type": "display_data",
          "data": {
            "text/plain": [
              "(10158, 6)"
            ]
          },
          "metadata": {
            "tags": []
          }
        },
        {
          "output_type": "stream",
          "text": [
            "test\n"
          ],
          "name": "stdout"
        },
        {
          "output_type": "display_data",
          "data": {
            "text/html": [
              "<div>\n",
              "<style scoped>\n",
              "    .dataframe tbody tr th:only-of-type {\n",
              "        vertical-align: middle;\n",
              "    }\n",
              "\n",
              "    .dataframe tbody tr th {\n",
              "        vertical-align: top;\n",
              "    }\n",
              "\n",
              "    .dataframe thead th {\n",
              "        text-align: right;\n",
              "    }\n",
              "</style>\n",
              "<table border=\"1\" class=\"dataframe\">\n",
              "  <thead>\n",
              "    <tr style=\"text-align: right;\">\n",
              "      <th></th>\n",
              "      <th>id</th>\n",
              "      <th>query</th>\n",
              "      <th>product_title</th>\n",
              "      <th>product_description</th>\n",
              "    </tr>\n",
              "  </thead>\n",
              "  <tbody>\n",
              "    <tr>\n",
              "      <th>0</th>\n",
              "      <td>3</td>\n",
              "      <td>electric griddle</td>\n",
              "      <td>Star-Max 48 in Electric Griddle</td>\n",
              "      <td>NaN</td>\n",
              "    </tr>\n",
              "    <tr>\n",
              "      <th>1</th>\n",
              "      <td>6</td>\n",
              "      <td>phillips coffee maker</td>\n",
              "      <td>Philips SENSEO HD7810 WHITE Single Serve Pod C...</td>\n",
              "      <td>NaN</td>\n",
              "    </tr>\n",
              "    <tr>\n",
              "      <th>2</th>\n",
              "      <td>9</td>\n",
              "      <td>san francisco 49ers</td>\n",
              "      <td>2013 San Francisco 49ers Clock</td>\n",
              "      <td>A 2013 San Francisco 49ers clock is the ultima...</td>\n",
              "    </tr>\n",
              "    <tr>\n",
              "      <th>3</th>\n",
              "      <td>11</td>\n",
              "      <td>aveeno shampoo</td>\n",
              "      <td>AVEENO       10.5FLOZ NRSH SHINE SH</td>\n",
              "      <td>Water, Ammonium Lauryl Sulfate, Dimethicone, S...</td>\n",
              "    </tr>\n",
              "    <tr>\n",
              "      <th>4</th>\n",
              "      <td>12</td>\n",
              "      <td>flea and tick control for dogs</td>\n",
              "      <td>Merial Frontline Plus Flea and Tick Control fo...</td>\n",
              "      <td>NaN</td>\n",
              "    </tr>\n",
              "  </tbody>\n",
              "</table>\n",
              "</div>"
            ],
            "text/plain": [
              "   id  ...                                product_description\n",
              "0   3  ...                                                NaN\n",
              "1   6  ...                                                NaN\n",
              "2   9  ...  A 2013 San Francisco 49ers clock is the ultima...\n",
              "3  11  ...  Water, Ammonium Lauryl Sulfate, Dimethicone, S...\n",
              "4  12  ...                                                NaN\n",
              "\n",
              "[5 rows x 4 columns]"
            ]
          },
          "metadata": {
            "tags": []
          }
        },
        {
          "output_type": "display_data",
          "data": {
            "text/plain": [
              "(22513, 4)"
            ]
          },
          "metadata": {
            "tags": []
          }
        },
        {
          "output_type": "execute_result",
          "data": {
            "application/vnd.google.colaboratory.intrinsic+json": {
              "type": "string"
            },
            "text/plain": [
              "\"\\nprint('product_description')\\ndisplay(df_pro_desc.head(),df_pro_desc.shape)\\nprint('product_extended_information')\\ndisplay(df_attr.head(),df_attr.shape)\\n\""
            ]
          },
          "metadata": {
            "tags": []
          },
          "execution_count": 8
        }
      ]
    },
    {
      "cell_type": "code",
      "metadata": {
        "id": "4J6oFa-bujQZ",
        "colab": {
          "base_uri": "https://localhost:8080/",
          "height": 425
        },
        "outputId": "6e4ae255-d330-43c6-8420-58f98fb03c98"
      },
      "source": [
        "# TEMP DEBUG CODE\n",
        "\n",
        "display(df_train.head(100))\n",
        "print(\" \")\n"
      ],
      "execution_count": null,
      "outputs": [
        {
          "output_type": "display_data",
          "data": {
            "text/html": [
              "<div>\n",
              "<style scoped>\n",
              "    .dataframe tbody tr th:only-of-type {\n",
              "        vertical-align: middle;\n",
              "    }\n",
              "\n",
              "    .dataframe tbody tr th {\n",
              "        vertical-align: top;\n",
              "    }\n",
              "\n",
              "    .dataframe thead th {\n",
              "        text-align: right;\n",
              "    }\n",
              "</style>\n",
              "<table border=\"1\" class=\"dataframe\">\n",
              "  <thead>\n",
              "    <tr style=\"text-align: right;\">\n",
              "      <th></th>\n",
              "      <th>id</th>\n",
              "      <th>query</th>\n",
              "      <th>product_title</th>\n",
              "      <th>product_description</th>\n",
              "      <th>median_relevance</th>\n",
              "      <th>relevance_variance</th>\n",
              "    </tr>\n",
              "  </thead>\n",
              "  <tbody>\n",
              "    <tr>\n",
              "      <th>0</th>\n",
              "      <td>1</td>\n",
              "      <td>bridal shower decorations</td>\n",
              "      <td>Accent Pillow with Heart Design - Red/Black</td>\n",
              "      <td>Red satin accent pillow embroidered with a hea...</td>\n",
              "      <td>1</td>\n",
              "      <td>0.000</td>\n",
              "    </tr>\n",
              "    <tr>\n",
              "      <th>1</th>\n",
              "      <td>2</td>\n",
              "      <td>led christmas lights</td>\n",
              "      <td>Set of 10 Battery Operated Multi LED Train Chr...</td>\n",
              "      <td>Set of 10 Battery Operated Train Christmas Lig...</td>\n",
              "      <td>4</td>\n",
              "      <td>0.000</td>\n",
              "    </tr>\n",
              "    <tr>\n",
              "      <th>2</th>\n",
              "      <td>4</td>\n",
              "      <td>projector</td>\n",
              "      <td>ViewSonic Pro8200 DLP Multimedia Projector</td>\n",
              "      <td>NaN</td>\n",
              "      <td>4</td>\n",
              "      <td>0.471</td>\n",
              "    </tr>\n",
              "    <tr>\n",
              "      <th>3</th>\n",
              "      <td>5</td>\n",
              "      <td>wine rack</td>\n",
              "      <td>Concept Housewares WR-44526 Solid-Wood Ceiling...</td>\n",
              "      <td>Like a silent and sturdy tree, the Southern En...</td>\n",
              "      <td>4</td>\n",
              "      <td>0.000</td>\n",
              "    </tr>\n",
              "    <tr>\n",
              "      <th>4</th>\n",
              "      <td>7</td>\n",
              "      <td>light bulb</td>\n",
              "      <td>Wintergreen Lighting Christmas LED Light Bulb ...</td>\n",
              "      <td>WTGR1011\\nFeatures\\nNickel base, 60,000 averag...</td>\n",
              "      <td>2</td>\n",
              "      <td>0.471</td>\n",
              "    </tr>\n",
              "    <tr>\n",
              "      <th>...</th>\n",
              "      <td>...</td>\n",
              "      <td>...</td>\n",
              "      <td>...</td>\n",
              "      <td>...</td>\n",
              "      <td>...</td>\n",
              "      <td>...</td>\n",
              "    </tr>\n",
              "    <tr>\n",
              "      <th>95</th>\n",
              "      <td>281</td>\n",
              "      <td>an extremely goofy movie</td>\n",
              "      <td>A Goofy Movie (Full Frame)</td>\n",
              "      <td>DVD, G, 78 minutes, Disney\\nNow you can enjoy ...</td>\n",
              "      <td>3</td>\n",
              "      <td>0.894</td>\n",
              "    </tr>\n",
              "    <tr>\n",
              "      <th>96</th>\n",
              "      <td>289</td>\n",
              "      <td>gym gloves</td>\n",
              "      <td>Everlast Wristwrap Glove, Black</td>\n",
              "      <td>NaN</td>\n",
              "      <td>2</td>\n",
              "      <td>0.748</td>\n",
              "    </tr>\n",
              "    <tr>\n",
              "      <th>97</th>\n",
              "      <td>290</td>\n",
              "      <td>double stroller</td>\n",
              "      <td>Contours Options Elite Twin Tandem Double Baby...</td>\n",
              "      <td>&lt;table&gt;\\n\\t&lt;tr&gt;\\n\\t\\t&lt;td&gt;\\n\\t\\t\\t\\n\\n\\n\\n.styl...</td>\n",
              "      <td>4</td>\n",
              "      <td>0.000</td>\n",
              "    </tr>\n",
              "    <tr>\n",
              "      <th>98</th>\n",
              "      <td>295</td>\n",
              "      <td>wine rack</td>\n",
              "      <td>Jumbo Bin 120-Bottle Mahogany Wine Rack</td>\n",
              "      <td>Our Jumbo Bin 120-Bottle Wine Rack is now more...</td>\n",
              "      <td>4</td>\n",
              "      <td>0.000</td>\n",
              "    </tr>\n",
              "    <tr>\n",
              "      <th>99</th>\n",
              "      <td>296</td>\n",
              "      <td>leather mens briefcase</td>\n",
              "      <td>Leather Briefcase with Removable Laptop Sleeve...</td>\n",
              "      <td>Stay stylishly connected with this luxurious I...</td>\n",
              "      <td>3</td>\n",
              "      <td>0.471</td>\n",
              "    </tr>\n",
              "  </tbody>\n",
              "</table>\n",
              "<p>100 rows × 6 columns</p>\n",
              "</div>"
            ],
            "text/plain": [
              "     id                      query  ... median_relevance relevance_variance\n",
              "0     1  bridal shower decorations  ...                1              0.000\n",
              "1     2       led christmas lights  ...                4              0.000\n",
              "2     4                  projector  ...                4              0.471\n",
              "3     5                  wine rack  ...                4              0.000\n",
              "4     7                 light bulb  ...                2              0.471\n",
              "..  ...                        ...  ...              ...                ...\n",
              "95  281   an extremely goofy movie  ...                3              0.894\n",
              "96  289                 gym gloves  ...                2              0.748\n",
              "97  290            double stroller  ...                4              0.000\n",
              "98  295                  wine rack  ...                4              0.000\n",
              "99  296     leather mens briefcase  ...                3              0.471\n",
              "\n",
              "[100 rows x 6 columns]"
            ]
          },
          "metadata": {
            "tags": []
          }
        },
        {
          "output_type": "stream",
          "text": [
            " \n"
          ],
          "name": "stdout"
        }
      ]
    },
    {
      "cell_type": "code",
      "metadata": {
        "scrolled": true,
        "colab": {
          "base_uri": "https://localhost:8080/"
        },
        "id": "khgmdb9AujQZ",
        "outputId": "944c1657-8849-4c62-f757-9e5d2e536ff1"
      },
      "source": [
        "# Display summary info of training dataframe\n",
        "df_train.info()"
      ],
      "execution_count": null,
      "outputs": [
        {
          "output_type": "stream",
          "text": [
            "<class 'pandas.core.frame.DataFrame'>\n",
            "RangeIndex: 10158 entries, 0 to 10157\n",
            "Data columns (total 6 columns):\n",
            " #   Column               Non-Null Count  Dtype  \n",
            "---  ------               --------------  -----  \n",
            " 0   id                   10158 non-null  int64  \n",
            " 1   query                10158 non-null  object \n",
            " 2   product_title        10158 non-null  object \n",
            " 3   product_description  7714 non-null   object \n",
            " 4   median_relevance     10158 non-null  int64  \n",
            " 5   relevance_variance   10158 non-null  float64\n",
            "dtypes: float64(1), int64(2), object(3)\n",
            "memory usage: 476.3+ KB\n"
          ],
          "name": "stdout"
        }
      ]
    },
    {
      "cell_type": "code",
      "metadata": {
        "scrolled": true,
        "colab": {
          "base_uri": "https://localhost:8080/",
          "height": 265
        },
        "id": "Mfd3Ts4_ujQZ",
        "outputId": "d031179d-44b5-4d5c-fd2f-b69488cae786"
      },
      "source": [
        "# Show a histogram of the relevance scores to examine distribution\n",
        "df_train.median_relevance.hist(color='c', alpha=0.5)\n",
        "plt.show()"
      ],
      "execution_count": null,
      "outputs": [
        {
          "output_type": "display_data",
          "data": {
            "image/png": "[encoded data removed]",
            "text/plain": [
              "<Figure size 432x288 with 1 Axes>"
            ]
          },
          "metadata": {
            "tags": [],
            "needs_background": "light"
          }
        }
      ]
    },
    {
      "cell_type": "code",
      "metadata": {
        "scrolled": true,
        "colab": {
          "base_uri": "https://localhost:8080/"
        },
        "id": "a37id5sBujQa",
        "outputId": "833b8e80-d319-4c97-84e3-dc5e4c8a46c3"
      },
      "source": [
        "# Show raw frequencies for unique relevancy score instances\n",
        "df_train.median_relevance.value_counts()"
      ],
      "execution_count": null,
      "outputs": [
        {
          "output_type": "execute_result",
          "data": {
            "text/plain": [
              "4    6171\n",
              "3    1737\n",
              "2    1476\n",
              "1     774\n",
              "Name: median_relevance, dtype: int64"
            ]
          },
          "metadata": {
            "tags": []
          },
          "execution_count": 12
        }
      ]
    },
    {
      "cell_type": "code",
      "metadata": {
        "colab": {
          "base_uri": "https://localhost:8080/"
        },
        "id": "VJtVtIaAujQa",
        "outputId": "30ca92ee-385e-4d48-9cb4-0d75e8a9a6e2"
      },
      "source": [
        "# Display summary info of testing dataframe\n",
        "df_test.info()"
      ],
      "execution_count": null,
      "outputs": [
        {
          "output_type": "stream",
          "text": [
            "<class 'pandas.core.frame.DataFrame'>\n",
            "RangeIndex: 22513 entries, 0 to 22512\n",
            "Data columns (total 4 columns):\n",
            " #   Column               Non-Null Count  Dtype \n",
            "---  ------               --------------  ----- \n",
            " 0   id                   22513 non-null  int64 \n",
            " 1   query                22513 non-null  object\n",
            " 2   product_title        22513 non-null  object\n",
            " 3   product_description  17086 non-null  object\n",
            "dtypes: int64(1), object(3)\n",
            "memory usage: 703.7+ KB\n"
          ],
          "name": "stdout"
        }
      ]
    },
    {
      "cell_type": "code",
      "metadata": {
        "colab": {
          "base_uri": "https://localhost:8080/",
          "height": 198
        },
        "id": "BVO0b9SeujQc",
        "outputId": "a601c928-34f9-4f5a-9671-eb634cfd8f28"
      },
      "source": [
        "# Dislay the testing dataframe to examine the alterations made by spelling correction\n",
        "df_test.head()"
      ],
      "execution_count": null,
      "outputs": [
        {
          "output_type": "execute_result",
          "data": {
            "text/html": [
              "<div>\n",
              "<style scoped>\n",
              "    .dataframe tbody tr th:only-of-type {\n",
              "        vertical-align: middle;\n",
              "    }\n",
              "\n",
              "    .dataframe tbody tr th {\n",
              "        vertical-align: top;\n",
              "    }\n",
              "\n",
              "    .dataframe thead th {\n",
              "        text-align: right;\n",
              "    }\n",
              "</style>\n",
              "<table border=\"1\" class=\"dataframe\">\n",
              "  <thead>\n",
              "    <tr style=\"text-align: right;\">\n",
              "      <th></th>\n",
              "      <th>id</th>\n",
              "      <th>query</th>\n",
              "      <th>product_title</th>\n",
              "      <th>product_description</th>\n",
              "    </tr>\n",
              "  </thead>\n",
              "  <tbody>\n",
              "    <tr>\n",
              "      <th>0</th>\n",
              "      <td>3</td>\n",
              "      <td>electric griddle</td>\n",
              "      <td>Star-Max 48 in Electric Griddle</td>\n",
              "      <td>NaN</td>\n",
              "    </tr>\n",
              "    <tr>\n",
              "      <th>1</th>\n",
              "      <td>6</td>\n",
              "      <td>phillips coffee maker</td>\n",
              "      <td>Philips SENSEO HD7810 WHITE Single Serve Pod C...</td>\n",
              "      <td>NaN</td>\n",
              "    </tr>\n",
              "    <tr>\n",
              "      <th>2</th>\n",
              "      <td>9</td>\n",
              "      <td>san francisco 49ers</td>\n",
              "      <td>2013 San Francisco 49ers Clock</td>\n",
              "      <td>A 2013 San Francisco 49ers clock is the ultima...</td>\n",
              "    </tr>\n",
              "    <tr>\n",
              "      <th>3</th>\n",
              "      <td>11</td>\n",
              "      <td>aveeno shampoo</td>\n",
              "      <td>AVEENO       10.5FLOZ NRSH SHINE SH</td>\n",
              "      <td>Water, Ammonium Lauryl Sulfate, Dimethicone, S...</td>\n",
              "    </tr>\n",
              "    <tr>\n",
              "      <th>4</th>\n",
              "      <td>12</td>\n",
              "      <td>flea and tick control for dogs</td>\n",
              "      <td>Merial Frontline Plus Flea and Tick Control fo...</td>\n",
              "      <td>NaN</td>\n",
              "    </tr>\n",
              "  </tbody>\n",
              "</table>\n",
              "</div>"
            ],
            "text/plain": [
              "   id  ...                                product_description\n",
              "0   3  ...                                                NaN\n",
              "1   6  ...                                                NaN\n",
              "2   9  ...  A 2013 San Francisco 49ers clock is the ultima...\n",
              "3  11  ...  Water, Ammonium Lauryl Sulfate, Dimethicone, S...\n",
              "4  12  ...                                                NaN\n",
              "\n",
              "[5 rows x 4 columns]"
            ]
          },
          "metadata": {
            "tags": []
          },
          "execution_count": 14
        }
      ]
    },
    {
      "cell_type": "code",
      "metadata": {
        "id": "kNnJ4UWUDSos"
      },
      "source": [
        "def drop_nan(df,col_list):\n",
        "    for i in col_list:\n",
        "        df = df[df[i].notnull()]\n",
        "    drop_col = []\n",
        "    for i in df.columns:\n",
        "        if i not in col_list:\n",
        "            drop_col.append(i)\n",
        "    df = df.drop(drop_col, axis=1)\n",
        "    return df"
      ],
      "execution_count": null,
      "outputs": []
    },
    {
      "cell_type": "code",
      "metadata": {
        "id": "Z8sv1Kt7ujQd"
      },
      "source": [
        "col=['id','query','product_title','product_description','median_relevance','relevance_variance'] "
      ],
      "execution_count": null,
      "outputs": []
    },
    {
      "cell_type": "code",
      "metadata": {
        "id": "zdks4Rsseodp"
      },
      "source": [
        "df = drop_nan(df_train,col)"
      ],
      "execution_count": null,
      "outputs": []
    },
    {
      "cell_type": "code",
      "metadata": {
        "id": "nyvLtjJdesVs"
      },
      "source": [
        "from sklearn.model_selection import train_test_split\n",
        "df_train, df_test = train_test_split(df, test_size = 0.3)"
      ],
      "execution_count": null,
      "outputs": []
    },
    {
      "cell_type": "markdown",
      "metadata": {
        "id": "FIZSf4BFujQd"
      },
      "source": [
        "## 3. Pre-processing"
      ]
    },
    {
      "cell_type": "code",
      "metadata": {
        "id": "Tw4O4Iy1ujQe",
        "colab": {
          "base_uri": "https://localhost:8080/"
        },
        "outputId": "f663c80a-7ee8-4573-9944-f2e36df9ac78"
      },
      "source": [
        "# Ensure search terms are treated as strings in the training dataset.\n",
        "# Get the number of training instances (will be used in a later calculation)\n",
        "df_train[\"query\"]= df_train[\"query\"].astype(str)\n",
        "num_train = df_train.shape[0]\n",
        "print(num_train)"
      ],
      "execution_count": null,
      "outputs": [
        {
          "output_type": "stream",
          "text": [
            "5399\n"
          ],
          "name": "stdout"
        },
        {
          "output_type": "stream",
          "text": [
            "/usr/local/lib/python3.7/dist-packages/ipykernel_launcher.py:3: SettingWithCopyWarning: \n",
            "A value is trying to be set on a copy of a slice from a DataFrame.\n",
            "Try using .loc[row_indexer,col_indexer] = value instead\n",
            "\n",
            "See the caveats in the documentation: https://pandas.pydata.org/pandas-docs/stable/user_guide/indexing.html#returning-a-view-versus-a-copy\n",
            "  This is separate from the ipykernel package so we can avoid doing imports until\n"
          ],
          "name": "stderr"
        }
      ]
    },
    {
      "cell_type": "code",
      "metadata": {
        "id": "nwFJ_MTZujQe"
      },
      "source": [
        "# String cleaning function\n",
        "# Utilizes regex to:\n",
        "#      Replace unneeded characters/strings with spaces\n",
        "#      Collect dimensional indication terms (i.e. \"num x num\") under a common identifier\n",
        "#      Collect unit instances under common identifiers to ensure TF-IDF accuracy\n",
        "#      Convert string representations of numbers to numeric ones\n",
        "def string_edit(s): \n",
        "    if isinstance(s, str):\n",
        "        s = re.sub(r\"(\\w)\\.([A-Z])\", r\"\\1 \\2\", s) #Split words with a.A\n",
        "        s = s.lower()\n",
        "        s = s.replace(\"  \",\" \")\n",
        "        s = s.replace(\",\",\"\") #could be number / segment later\n",
        "        s = s.replace(\"$\",\" \")\n",
        "        s = s.replace(\"?\",\" \")\n",
        "        s = s.replace(\"-\",\" \")\n",
        "        s = s.replace(\"//\",\"/\")\n",
        "        s = s.replace(\"..\",\".\")\n",
        "        s = s.replace(\" / \",\" \")\n",
        "        s = s.replace(\" \\\\ \",\" \")\n",
        "        s = s.replace(\".\",\" . \")\n",
        "        s = re.sub(r\"(^\\.|/)\", r\"\", s)\n",
        "        s = re.sub(r\"(\\.|/)$\", r\"\", s)\n",
        "        s = re.sub(r\"([0-9])([a-z])\", r\"\\1 \\2\", s)\n",
        "        s = re.sub(r\"([a-z])([0-9])\", r\"\\1 \\2\", s)\n",
        "        s = s.replace(\" x \",\" xbi \")\n",
        "        s = re.sub(r\"([a-z])( *)\\.( *)([a-z])\", r\"\\1 \\4\", s)\n",
        "        s = re.sub(r\"([a-z])( *)/( *)([a-z])\", r\"\\1 \\4\", s)\n",
        "        s = s.replace(\"*\",\" xbi \")\n",
        "        s = s.replace(\" by \",\" xbi \")\n",
        "        s = re.sub(r\"([0-9])( *)\\.( *)([0-9])\", r\"\\1.\\4\", s)\n",
        "        \n",
        "        # Consolidate variations of equivalent unit terms \n",
        "        s = re.sub(r\"([0-9]+)( *)(inches|inch|in|')\\.?\", r\"\\1in. \", s)\n",
        "        s = re.sub(r\"([0-9]+)( *)(foot|feet|ft|'')\\.?\", r\"\\1ft. \", s)\n",
        "        s = re.sub(r\"([0-9]+)( *)(pounds|pound|lbs|lb)\\.?\", r\"\\1lb. \", s)\n",
        "        s = re.sub(r\"([0-9]+)( *)(square|sq) ?\\.?(feet|foot|ft)\\.?\", r\"\\1sq.ft. \", s)\n",
        "        s = re.sub(r\"([0-9]+)( *)(cubic|cu) ?\\.?(feet|foot|ft)\\.?\", r\"\\1cu.ft. \", s)\n",
        "        s = re.sub(r\"([0-9]+)( *)(gallons|gallon|gal)\\.?\", r\"\\1gal. \", s)\n",
        "        s = re.sub(r\"([0-9]+)( *)(ounces|ounce|oz)\\.?\", r\"\\1oz. \", s)\n",
        "        s = re.sub(r\"([0-9]+)( *)(centimeters|cm)\\.?\", r\"\\1cm. \", s)\n",
        "        s = re.sub(r\"([0-9]+)( *)(milimeters|mm)\\.?\", r\"\\1mm. \", s)\n",
        "        s = s.replace(\"°\",\" degrees \")\n",
        "        s = re.sub(r\"([0-9]+)( *)(degrees|degree)\\.?\", r\"\\1deg. \", s)\n",
        "        s = s.replace(\" v \",\" volts \")\n",
        "        s = re.sub(r\"([0-9]+)( *)(volts|volt)\\.?\", r\"\\1volt. \", s)\n",
        "        s = re.sub(r\"([0-9]+)( *)(watts|watt)\\.?\", r\"\\1watt. \", s)\n",
        "        s = re.sub(r\"([0-9]+)( *)(amperes|ampere|amps|amp)\\.?\", r\"\\1amp. \", s)\n",
        "        s = s.replace(\"  \",\" \")\n",
        "        s = s.replace(\" . \",\" \")\n",
        "        \n",
        "        # Handling numeric instances with common identifiers\n",
        "        s = re.sub(r\"zero\\.?\", r\"0 \", s)\n",
        "        s = re.sub(r\"one\\.?\", r\"1 \", s)\n",
        "        s = re.sub(r\"two\\.?\", r\"2 \", s)\n",
        "        s = re.sub(r\"three\\.?\", r\"3 \", s)\n",
        "        s = re.sub(r\"four\\.?\", r\"4 \", s)\n",
        "        s = re.sub(r\"five\\.?\", r\"5 \", s)\n",
        "        s = re.sub(r\"six\\.?\", r\"6 \", s)\n",
        "        s = re.sub(r\"seven\\.?\", r\"7 \", s)\n",
        "        s = re.sub(r\"eight\\.?\", r\"8 \", s)\n",
        "        s = re.sub(r\"nine\\.?\", r\"9 \", s)\n",
        "        \n",
        "        return s\n",
        "    else:\n",
        "        # Return a \"null\" string if the parameter supplied is not a string\n",
        "        return \"null\""
      ],
      "execution_count": null,
      "outputs": []
    },
    {
      "cell_type": "code",
      "metadata": {
        "id": "IoosdWf-ujQf"
      },
      "source": [
        "# Defines the stemming function which will call the stemmer on each word\n",
        "# in the supplied string.\n",
        "def str_stemmer(s):\n",
        "    return \" \".join([stemmer.stem(word) for word in s.lower().split()])"
      ],
      "execution_count": null,
      "outputs": []
    },
    {
      "cell_type": "code",
      "metadata": {
        "id": "Arn2FsE24M8Z",
        "outputId": "d9337cfb-86bb-4a87-8cef-1f91b3bf5ade"
      },
      "source": [
        "start_time = time.time()\n",
        "\n",
        "# Perform stemming function on query, product title, product description.\n",
        "df_all['query'] = pd.Series(df_all['query'].map(lambda x:str_stemmer(str(x))))\n",
        "df_all['product_title'] = pd.Series(df_all['product_title'].map(lambda x:str_stemmer(str(x))))\n",
        "df_all['product_description'] = pd.Series(df_all['product_description'].map(lambda x:str_stemmer(str(x))))\n",
        "\n",
        "\n",
        "# Operation Time:\n",
        "print(\"--- %s seconds ---\" % (time.time() - start_time))"
      ],
      "execution_count": null,
      "outputs": [
        {
          "output_type": "stream",
          "text": [
            "--- 618.267942905426 seconds ---\n"
          ],
          "name": "stdout"
        }
      ]
    },
    {
      "cell_type": "code",
      "metadata": {
        "id": "nypsAPYlCwqB"
      },
      "source": [
        "start_time = time.time()\n",
        "\n",
        "# Applying the regex string cleaning function to query, product_title, product_description\n",
        "# See the function definition above for a detailed description of alterations that are made\n",
        "df_all['query'] = df_all['query'].map(lambda x:string_edit(str(x)))\n",
        "df_all['product_title'] = df_all['product_title'].map(lambda x:string_edit(str(x)))\n",
        "df_all['product_description'] = df_all['product_description'].map(lambda x:string_edit(str(x)))\n",
        "\n",
        "\n",
        "print(\"--- %s seconds ---\" % (time.time() - start_time))"
      ],
      "execution_count": null,
      "outputs": []
    },
    {
      "cell_type": "code",
      "metadata": {
        "scrolled": false,
        "id": "O0EIhx5sujQg"
      },
      "source": [
        "# Concatinate train and test sets so that pre-processing can be done in one step \n",
        "#concat order: train + test \n",
        "df_all = pd.concat([df_train, df_test], axis=0, ignore_index=True) "
      ],
      "execution_count": null,
      "outputs": []
    },
    {
      "cell_type": "code",
      "metadata": {
        "scrolled": true,
        "id": "BuKhx-FXujQg",
        "colab": {
          "base_uri": "https://localhost:8080/"
        },
        "outputId": "84f75290-b670-4262-ae6b-9fbddc043551"
      },
      "source": [
        "df_all.head()\n",
        "print(df_all.shape[0])"
      ],
      "execution_count": null,
      "outputs": [
        {
          "output_type": "stream",
          "text": [
            "7714\n"
          ],
          "name": "stdout"
        }
      ]
    },
    {
      "cell_type": "code",
      "metadata": {
        "id": "-65DAF0OujQn"
      },
      "source": [
        "\n",
        "# Split into training and testing sets\n",
        "# PLEASE NOTE: num_train is defined above in a previous cell. If a file is being loaded in,\n",
        "# the constant 74067 can be substituted here to achieve the same result.\n",
        "df_train = df_all.iloc[:num_train]\n",
        "df_test = df_all.iloc[num_train:]"
      ],
      "execution_count": null,
      "outputs": []
    },
    {
      "cell_type": "markdown",
      "metadata": {
        "id": "YukV8on7ujQn"
      },
      "source": [
        "## 4. calculate TFidf and doing feature reduction"
      ]
    },
    {
      "cell_type": "code",
      "metadata": {
        "id": "EDa2NOqKujQo"
      },
      "source": [
        "# Concatinating test and train file so tfidf and feature reduction can be done in 1 step\n",
        "df_all = pd.concat([df_train, df_test], axis=0, ignore_index=True)"
      ],
      "execution_count": null,
      "outputs": []
    },
    {
      "cell_type": "code",
      "metadata": {
        "id": "54neCePpujQo"
      },
      "source": [
        "# Set the maximum columns to display. Not essential but can help with debugging.\n",
        "pd.set_option('display.max_columns', 30)"
      ],
      "execution_count": null,
      "outputs": []
    },
    {
      "cell_type": "code",
      "metadata": {
        "colab": {
          "base_uri": "https://localhost:8080/",
          "height": 198
        },
        "id": "8A4sVUAOujQo",
        "outputId": "112b8aa0-8e16-4a09-de60-9706e6d34024"
      },
      "source": [
        "# Print the head of the collected table for verification\n",
        "df_all.head()"
      ],
      "execution_count": null,
      "outputs": [
        {
          "output_type": "execute_result",
          "data": {
            "text/html": [
              "<div>\n",
              "<style scoped>\n",
              "    .dataframe tbody tr th:only-of-type {\n",
              "        vertical-align: middle;\n",
              "    }\n",
              "\n",
              "    .dataframe tbody tr th {\n",
              "        vertical-align: top;\n",
              "    }\n",
              "\n",
              "    .dataframe thead th {\n",
              "        text-align: right;\n",
              "    }\n",
              "</style>\n",
              "<table border=\"1\" class=\"dataframe\">\n",
              "  <thead>\n",
              "    <tr style=\"text-align: right;\">\n",
              "      <th></th>\n",
              "      <th>id</th>\n",
              "      <th>query</th>\n",
              "      <th>product_title</th>\n",
              "      <th>product_description</th>\n",
              "      <th>median_relevance</th>\n",
              "      <th>relevance_variance</th>\n",
              "    </tr>\n",
              "  </thead>\n",
              "  <tbody>\n",
              "    <tr>\n",
              "      <th>0</th>\n",
              "      <td>19581</td>\n",
              "      <td>playstation 4</td>\n",
              "      <td>PlayStation 4 500GB Console (PS4)</td>\n",
              "      <td>The PlayStation 4 Gaming Console is the best p...</td>\n",
              "      <td>4</td>\n",
              "      <td>0.000</td>\n",
              "    </tr>\n",
              "    <tr>\n",
              "      <th>1</th>\n",
              "      <td>13</td>\n",
              "      <td>screen protector samsung</td>\n",
              "      <td>ZAGG InvisibleShield Cell Phone Screen Protect...</td>\n",
              "      <td>Protect your most precious technology with the...</td>\n",
              "      <td>4</td>\n",
              "      <td>0.000</td>\n",
              "    </tr>\n",
              "    <tr>\n",
              "      <th>2</th>\n",
              "      <td>20501</td>\n",
              "      <td>shaver panasonic</td>\n",
              "      <td>Panasonic WER9606P Replacement Trimmer Blade</td>\n",
              "      <td>This Panasonic replacement trimmer blade is fo...</td>\n",
              "      <td>2</td>\n",
              "      <td>0.471</td>\n",
              "    </tr>\n",
              "    <tr>\n",
              "      <th>3</th>\n",
              "      <td>8643</td>\n",
              "      <td>dean guitar</td>\n",
              "      <td>Dean Exotica Left-Handed Bubinga Acoustic-Elec...</td>\n",
              "      <td>Product Information\\n\\nDean Exotica Left-Hande...</td>\n",
              "      <td>4</td>\n",
              "      <td>0.471</td>\n",
              "    </tr>\n",
              "    <tr>\n",
              "      <th>4</th>\n",
              "      <td>21507</td>\n",
              "      <td>aveeno shampoo</td>\n",
              "      <td>Aveeno Active Naturals Pure Renewal Shampoo, 1...</td>\n",
              "      <td>Aveeno Active Naturals Shampoo is designed to ...</td>\n",
              "      <td>4</td>\n",
              "      <td>0.000</td>\n",
              "    </tr>\n",
              "  </tbody>\n",
              "</table>\n",
              "</div>"
            ],
            "text/plain": [
              "      id                     query  \\\n",
              "0  19581             playstation 4   \n",
              "1     13  screen protector samsung   \n",
              "2  20501          shaver panasonic   \n",
              "3   8643               dean guitar   \n",
              "4  21507            aveeno shampoo   \n",
              "\n",
              "                                       product_title  \\\n",
              "0                  PlayStation 4 500GB Console (PS4)   \n",
              "1  ZAGG InvisibleShield Cell Phone Screen Protect...   \n",
              "2       Panasonic WER9606P Replacement Trimmer Blade   \n",
              "3  Dean Exotica Left-Handed Bubinga Acoustic-Elec...   \n",
              "4  Aveeno Active Naturals Pure Renewal Shampoo, 1...   \n",
              "\n",
              "                                 product_description  median_relevance  \\\n",
              "0  The PlayStation 4 Gaming Console is the best p...                 4   \n",
              "1  Protect your most precious technology with the...                 4   \n",
              "2  This Panasonic replacement trimmer blade is fo...                 2   \n",
              "3  Product Information\\n\\nDean Exotica Left-Hande...                 4   \n",
              "4  Aveeno Active Naturals Shampoo is designed to ...                 4   \n",
              "\n",
              "   relevance_variance  \n",
              "0               0.000  \n",
              "1               0.000  \n",
              "2               0.471  \n",
              "3               0.471  \n",
              "4               0.000  "
            ]
          },
          "metadata": {
            "tags": []
          },
          "execution_count": 35
        }
      ]
    },
    {
      "cell_type": "code",
      "metadata": {
        "id": "KSNXeW8QujQo"
      },
      "source": [
        "# TF-IDF and Truncated SVD initialization (to extract concept using Latent semantics analysis(LSA))\n",
        "tfidf = TfidfVectorizer(ngram_range=(1, 2), stop_words='english') #stop words\n",
        "svd = TruncatedSVD(n_components=100, random_state = 2019)  #n_components=100 to extract concepts using LSA"
      ],
      "execution_count": null,
      "outputs": []
    },
    {
      "cell_type": "code",
      "metadata": {
        "id": "LOZXcBB_ujQp"
      },
      "source": [
        "# Creating pipeline to execute TF-IDF and SVD in one step\n",
        "pipe = Pipeline(steps=[('tfidf', tfidf), ('svd', svd)])"
      ],
      "execution_count": null,
      "outputs": []
    },
    {
      "cell_type": "code",
      "metadata": {
        "colab": {
          "base_uri": "https://localhost:8080/"
        },
        "id": "xbkzAI9UujQp",
        "outputId": "3b62bb66-8fcb-4f25-d315-ebf4fbfc73d0"
      },
      "source": [
        "start_time = time.time()\n",
        "\n",
        "# Perform fit and transform function of pipeline to convert text(in each feature) into vectors and reducing them \n",
        "df_all[\"product_title\"]=pipe.fit_transform(df_all[\"product_title\"])\n",
        "df_all[\"query\"]=pipe.fit_transform(df_all[\"query\"])\n",
        "df_all[\"product_description\"]=pipe.fit_transform(df_all[\"product_description\"])\n",
        "\n",
        "# Operation Time:\n",
        "print(\"--- %s seconds ---\" % (time.time() - start_time))"
      ],
      "execution_count": null,
      "outputs": [
        {
          "output_type": "stream",
          "text": [
            "--- 19.82649326324463 seconds ---\n"
          ],
          "name": "stdout"
        }
      ]
    },
    {
      "cell_type": "code",
      "metadata": {
        "colab": {
          "base_uri": "https://localhost:8080/",
          "height": 48
        },
        "id": "p8u4Cia_ujQp",
        "outputId": "c296c88d-4a7f-4912-eff0-66e4faea4054"
      },
      "source": [
        "# Show the number of missing values that exist in the dataframe\n",
        "missing = pd.DataFrame(df_all.isnull().sum())\n",
        "missing[missing[0]>0]"
      ],
      "execution_count": null,
      "outputs": [
        {
          "output_type": "execute_result",
          "data": {
            "text/html": [
              "<div>\n",
              "<style scoped>\n",
              "    .dataframe tbody tr th:only-of-type {\n",
              "        vertical-align: middle;\n",
              "    }\n",
              "\n",
              "    .dataframe tbody tr th {\n",
              "        vertical-align: top;\n",
              "    }\n",
              "\n",
              "    .dataframe thead th {\n",
              "        text-align: right;\n",
              "    }\n",
              "</style>\n",
              "<table border=\"1\" class=\"dataframe\">\n",
              "  <thead>\n",
              "    <tr style=\"text-align: right;\">\n",
              "      <th></th>\n",
              "      <th>0</th>\n",
              "    </tr>\n",
              "  </thead>\n",
              "  <tbody>\n",
              "  </tbody>\n",
              "</table>\n",
              "</div>"
            ],
            "text/plain": [
              "Empty DataFrame\n",
              "Columns: [0]\n",
              "Index: []"
            ]
          },
          "metadata": {
            "tags": []
          },
          "execution_count": 39
        }
      ]
    },
    {
      "cell_type": "code",
      "metadata": {
        "id": "whv8LQv3ujQp"
      },
      "source": [
        "# Calcuate the number of training items for splitting the full dataframe\n",
        "num_train=df_train.shape[0]"
      ],
      "execution_count": null,
      "outputs": []
    },
    {
      "cell_type": "code",
      "metadata": {
        "id": "jugSv1S5ujQq"
      },
      "source": [
        "# Split the full dataframe into training and testing sets\n",
        "df_train = df_all.iloc[:num_train]\n",
        "df_test = df_all.iloc[num_train:]"
      ],
      "execution_count": null,
      "outputs": []
    },
    {
      "cell_type": "code",
      "metadata": {
        "colab": {
          "base_uri": "https://localhost:8080/",
          "height": 198
        },
        "id": "96MUt69vujQq",
        "outputId": "60a856c3-375b-49b8-d3c7-fb9be89103a0"
      },
      "source": [
        "# Print the df_train dataframe for verification of features\n",
        "\n",
        "df_train.head()"
      ],
      "execution_count": null,
      "outputs": [
        {
          "output_type": "execute_result",
          "data": {
            "text/html": [
              "<div>\n",
              "<style scoped>\n",
              "    .dataframe tbody tr th:only-of-type {\n",
              "        vertical-align: middle;\n",
              "    }\n",
              "\n",
              "    .dataframe tbody tr th {\n",
              "        vertical-align: top;\n",
              "    }\n",
              "\n",
              "    .dataframe thead th {\n",
              "        text-align: right;\n",
              "    }\n",
              "</style>\n",
              "<table border=\"1\" class=\"dataframe\">\n",
              "  <thead>\n",
              "    <tr style=\"text-align: right;\">\n",
              "      <th></th>\n",
              "      <th>id</th>\n",
              "      <th>query</th>\n",
              "      <th>product_title</th>\n",
              "      <th>product_description</th>\n",
              "      <th>median_relevance</th>\n",
              "      <th>relevance_variance</th>\n",
              "    </tr>\n",
              "  </thead>\n",
              "  <tbody>\n",
              "    <tr>\n",
              "      <th>0</th>\n",
              "      <td>19581</td>\n",
              "      <td>-0.000249</td>\n",
              "      <td>0.006864</td>\n",
              "      <td>0.049182</td>\n",
              "      <td>4</td>\n",
              "      <td>0.000</td>\n",
              "    </tr>\n",
              "    <tr>\n",
              "      <th>1</th>\n",
              "      <td>13</td>\n",
              "      <td>0.000336</td>\n",
              "      <td>0.064768</td>\n",
              "      <td>0.084675</td>\n",
              "      <td>4</td>\n",
              "      <td>0.000</td>\n",
              "    </tr>\n",
              "    <tr>\n",
              "      <th>2</th>\n",
              "      <td>20501</td>\n",
              "      <td>-0.000292</td>\n",
              "      <td>0.006362</td>\n",
              "      <td>0.061459</td>\n",
              "      <td>2</td>\n",
              "      <td>0.471</td>\n",
              "    </tr>\n",
              "    <tr>\n",
              "      <th>3</th>\n",
              "      <td>8643</td>\n",
              "      <td>0.000693</td>\n",
              "      <td>0.006840</td>\n",
              "      <td>0.045817</td>\n",
              "      <td>4</td>\n",
              "      <td>0.471</td>\n",
              "    </tr>\n",
              "    <tr>\n",
              "      <th>4</th>\n",
              "      <td>21507</td>\n",
              "      <td>0.000131</td>\n",
              "      <td>0.024449</td>\n",
              "      <td>0.040045</td>\n",
              "      <td>4</td>\n",
              "      <td>0.000</td>\n",
              "    </tr>\n",
              "  </tbody>\n",
              "</table>\n",
              "</div>"
            ],
            "text/plain": [
              "      id     query  product_title  product_description  median_relevance  \\\n",
              "0  19581 -0.000249       0.006864             0.049182                 4   \n",
              "1     13  0.000336       0.064768             0.084675                 4   \n",
              "2  20501 -0.000292       0.006362             0.061459                 2   \n",
              "3   8643  0.000693       0.006840             0.045817                 4   \n",
              "4  21507  0.000131       0.024449             0.040045                 4   \n",
              "\n",
              "   relevance_variance  \n",
              "0               0.000  \n",
              "1               0.000  \n",
              "2               0.471  \n",
              "3               0.471  \n",
              "4               0.000  "
            ]
          },
          "metadata": {
            "tags": []
          },
          "execution_count": 43
        }
      ]
    },
    {
      "cell_type": "markdown",
      "metadata": {
        "id": "XiyFA9U6ujQq"
      },
      "source": [
        "## 5. Model Building"
      ]
    },
    {
      "cell_type": "markdown",
      "metadata": {
        "id": "ymfycZYT_uhu"
      },
      "source": [
        "### Model 1: BERT Model"
      ]
    },
    {
      "cell_type": "code",
      "metadata": {
        "id": "kmN-uHzd-F1C"
      },
      "source": [
        "!pip install -qq transformers"
      ],
      "execution_count": null,
      "outputs": []
    },
    {
      "cell_type": "code",
      "metadata": {
        "id": "YpHdVkDtFpCk"
      },
      "source": [
        "PRE_TRAINED_MODEL_NAME = 'bert-base-cased'\n",
        "import transformers\n",
        "from transformers import BertTokenizer,BertModel\n",
        "tokenizer = BertTokenizer.from_pretrained(PRE_TRAINED_MODEL_NAME)"
      ],
      "execution_count": null,
      "outputs": []
    },
    {
      "cell_type": "code",
      "metadata": {
        "id": "fI7lj6JyAF-2"
      },
      "source": [
        "from torch.utils.data import Dataset,DataLoader\n",
        "class GPReviewDataset(Dataset):\n",
        "\n",
        "  def __init__(self, reviews1, reviews2, targets, tokenizer, max_len):\n",
        "    self.reviews1 = reviews1\n",
        "    self.reviews2 = reviews2\n",
        "    self.targets = targets\n",
        "    self.tokenizer = tokenizer\n",
        "    self.max_len = max_len\n",
        "  \n",
        "  def __len__(self):\n",
        "    return len(self.reviews1)\n",
        "  \n",
        "  def __getitem__(self, item):\n",
        "    review1 = str(self.reviews1[item])\n",
        "    review2 = str(self.reviews2[item])\n",
        "    target = self.targets[item]\n",
        "\n",
        "    encoding1 = self.tokenizer.encode_plus(\n",
        "      review1,\n",
        "      add_special_tokens=True,\n",
        "      max_length=self.max_len,\n",
        "      return_token_type_ids=False,\n",
        "      pad_to_max_length=True,\n",
        "      return_attention_mask=True,\n",
        "      return_tensors='pt',\n",
        "    )\n",
        "    encoding2 = self.tokenizer.encode_plus(\n",
        "      review2,\n",
        "      add_special_tokens=True,\n",
        "      max_length=self.max_len,\n",
        "      return_token_type_ids=False,\n",
        "      pad_to_max_length=True,\n",
        "      return_attention_mask=True,\n",
        "      return_tensors='pt',\n",
        "    )\n",
        "\n",
        "    return {\n",
        "      'review_text1': review1,\n",
        "      'review_text2': review2,\n",
        "      'input_ids1': encoding1['input_ids'].flatten(),\n",
        "      'attention_mask1': encoding1['attention_mask'].flatten(),\n",
        "      'input_ids2': encoding2['input_ids'].flatten(),\n",
        "      'attention_mask2': encoding2['attention_mask'].flatten(),\n",
        "      'targets': torch.tensor(target, dtype=torch.long)\n",
        "    }"
      ],
      "execution_count": null,
      "outputs": []
    },
    {
      "cell_type": "code",
      "metadata": {
        "id": "1sQ4S4VI_I3D"
      },
      "source": [
        "#create data loader given the data frame\n",
        "def create_data_loader(df, tokenizer, max_len, batch_size):\n",
        "  ds = GPReviewDataset(\n",
        "    reviews1=df['query'].to_numpy(),\n",
        "    reviews2=df['product_title'].to_numpy(),\n",
        "    targets=df.median_relevance.to_numpy(),\n",
        "    tokenizer=tokenizer,\n",
        "    max_len=max_len\n",
        "  )\n",
        "\n",
        "  return DataLoader(\n",
        "    ds,\n",
        "    batch_size=batch_size,\n",
        "    num_workers=2\n",
        "  )"
      ],
      "execution_count": null,
      "outputs": []
    },
    {
      "cell_type": "code",
      "metadata": {
        "id": "XTFSM9Jm2kzk"
      },
      "source": [
        "#Establish the nerual network based on BERT model\n",
        "import torch\n",
        "import torch.nn as nn\n",
        "import torch.nn.functional as F\n",
        "class SentimentClassifier(nn.Module):\n",
        "\n",
        "  def __init__(self, n_classes):\n",
        "    super(SentimentClassifier, self).__init__()\n",
        "    self.bert1 = BertModel.from_pretrained(PRE_TRAINED_MODEL_NAME)\n",
        "    self.bert2 = BertModel.from_pretrained(PRE_TRAINED_MODEL_NAME)\n",
        "    self.drop = nn.Dropout(p=0.3)\n",
        "    self.out1 = nn.Linear(self.bert1.config.hidden_size, n_classes)\n",
        "    self.out2 = nn.Linear(self.bert2.config.hidden_size, n_classes)\n",
        "    self.sequential = nn.Sequential(\n",
        "        nn.Linear(768,256),\n",
        "        nn.ReLU(),\n",
        "        nn.Linear(256,64),\n",
        "        nn.ReLU(),\n",
        "        nn.Linear(64,16)\n",
        "\n",
        "    )\n",
        "  \n",
        "  def forward(self, input_ids1, attention_mask1 , input_ids2, attention_mask2):\n",
        "    _, pooled_output = self.bert1(\n",
        "      input_ids=input_ids1,\n",
        "      attention_mask=attention_mask1,\n",
        "      return_dict = False\n",
        "    )\n",
        "    output = self.drop(pooled_output)\n",
        "    out = self.out1(output)\n",
        "    _, pooled_output2 = self.bert2(\n",
        "      input_ids=input_ids2,\n",
        "      attention_mask=attention_mask2,\n",
        "      return_dict = False\n",
        "    )\n",
        "    output2 = self.drop(pooled_output2)\n",
        "    out2 = self.out2(output2) \n",
        "    out = out - out2\n",
        "    out = self.out1(out).flatten()\n",
        "\n",
        "    return self.sequential(out)"
      ],
      "execution_count": null,
      "outputs": []
    },
    {
      "cell_type": "code",
      "metadata": {
        "id": "iMtRH1Mj2qhe"
      },
      "source": [
        "#Establish \n",
        "class_names = ['0','1','2','3','4']\n",
        "device = torch.device('cuda:0')\n",
        "model = SentimentClassifier(len(class_names))\n",
        "model = model.to(device)"
      ],
      "execution_count": null,
      "outputs": []
    },
    {
      "cell_type": "code",
      "metadata": {
        "id": "Oqi1875BUJiE"
      },
      "source": [
        "\n",
        "EPOCHS = 20\n",
        "\n",
        "\n",
        "optimizer = torch.optim.AdamW(model.parameters(), lr=2e-5)\n",
        "total_steps = len(df_train) * EPOCHS\n",
        "\n",
        "scheduler = transformers.get_linear_schedule_with_warmup(\n",
        "  optimizer,\n",
        "  num_warmup_steps=0,\n",
        "  num_training_steps=total_steps\n",
        ")\n",
        "\n",
        "loss_fn = nn.MSELoss().to(device)"
      ],
      "execution_count": null,
      "outputs": []
    },
    {
      "cell_type": "code",
      "metadata": {
        "id": "no1l9kPUUIoP"
      },
      "source": [
        "from sklearn.svm import SVC\n",
        "from sklearn.pipeline import make_pipeline\n",
        "from sklearn.preprocessing import StandardScaler\n",
        "def train_epoch(\n",
        "  model, \n",
        "  data_loader, \n",
        "  loss_fn, \n",
        "  optimizer, \n",
        "  device, \n",
        "  scheduler, \n",
        "  n_examples\n",
        "):\n",
        "  model = model.train()\n",
        "\n",
        "  losses = []\n",
        "  correct_predictions = 0\n",
        "  output = []\n",
        "  target = []\n",
        "  for d in data_loader:\n",
        "   \n",
        "    input_ids1 = d['input_ids1'].to(device)\n",
        "    attention_mask1 = d['attention_mask1'].to(device)\n",
        "    input_ids2 = d['input_ids2'].to(device)\n",
        "    attention_mask2 = d['attention_mask2'].to(device)\n",
        "    targets = d['targets'].to(device)\n",
        "\n",
        "    outputs = model(\n",
        "      input_ids1=input_ids1,\n",
        "      attention_mask1=attention_mask1,\n",
        "      input_ids2=input_ids2,\n",
        "      attention_mask2=attention_mask2\n",
        "    )\n",
        "\n",
        "    loss = loss_fn(outputs, targets)\n",
        "    \n",
        "    correct_predictions += preds.eq(targets.data.view_as(preds)).cpu().sum()\n",
        "\n",
        "    loss.backward()\n",
        "    nn.utils.clip_grad_norm_(model.parameters(), max_norm=1.0)\n",
        "    optimizer.step()\n",
        "    scheduler.step()\n",
        "    optimizer.zero_grad()\n",
        "  \n",
        "  return correct_predictions.double() / n_examples, np.mean(losses)"
      ],
      "execution_count": null,
      "outputs": []
    },
    {
      "cell_type": "code",
      "metadata": {
        "id": "_kTzi_PAVu5T"
      },
      "source": [
        "def eval_model(model, data_loader, loss_fn, device, n_examples):\n",
        "  model = model.eval()\n",
        "\n",
        "\n",
        "  losses = []\n",
        "  correct_predictions = 0\n",
        "  \n",
        "  for d in data_loader:\n",
        "   \n",
        "    \n",
        "    input_ids1 = d['input_ids1'].to(device)\n",
        "    attention_mask1 = d['attention_mask1'].to(device)\n",
        "    input_ids2 = d['input_ids2'].to(device)\n",
        "    attention_mask2 = d['attention_mask2'].to(device)\n",
        "    targets = d['targets'].to(device)\n",
        "\n",
        "    outputs = model(\n",
        "      input_ids1=input_ids1,\n",
        "      attention_mask1=attention_mask1,\n",
        "      input_ids2=input_ids2,\n",
        "      attention_mask2=attention_mask2\n",
        "    )\n",
        "\n",
        "    _, preds = torch.max(outputs, dim=1)\n",
        "    loss = loss_fn(outputs, targets)\n",
        "\n",
        "    correct_predictions += preds.eq(targets.data.view_as(preds)).cpu().sum()\n",
        "    losses.append(loss.item())\n",
        "\n",
        "    \n",
        "  return correct_predictions.double() / n_examples, np.mean(losses)"
      ],
      "execution_count": null,
      "outputs": []
    },
    {
      "cell_type": "code",
      "metadata": {
        "id": "OErAOA8zHRkH"
      },
      "source": [
        "BATCH_SIZE = 16\n",
        "MAX_LEN = 160\n",
        "train_data_loader = create_data_loader(df_train, tokenizer, MAX_LEN, BATCH_SIZE)\n",
        "val_data_loader = create_data_loader(df_test, tokenizer, MAX_LEN, BATCH_SIZE)"
      ],
      "execution_count": null,
      "outputs": []
    },
    {
      "cell_type": "code",
      "metadata": {
        "id": "eoLUKHopG4A2"
      },
      "source": [
        "from collections import defaultdict\n",
        "import numpy as np\n",
        "\n",
        "history = defaultdict(list)\n",
        "best_accuracy = 0\n",
        "\n",
        "for epoch in range(EPOCHS):\n",
        "\n",
        "  print(f'Epoch {epoch + 1}/{EPOCHS}')\n",
        "  print('-' * 10)\n",
        "\n",
        "\n",
        "\n",
        "  train_acc, train_loss = train_epoch(model,train_data_loader,loss_fn,optimizer,device,scheduler,len(train_data_loader))\n",
        "\n",
        "  print(f'Train loss {train_loss} accuracy {train_acc}')\n",
        "\n",
        "  val_acc, val_loss = eval_model(model,val_data_loader,loss_fn,optimizer,device,scheduler,len(val_data_loader))\n",
        "\n",
        "  print(f'Val   loss {val_loss} accuracy {val_acc}')\n",
        "  print()\n",
        "\n",
        "  history['train_acc'].append(train_acc)\n",
        "  history['train_loss'].append(train_loss)\n",
        "  history['val_acc'].append(val_acc)\n",
        "  history['val_loss'].append(val_loss)\n",
        "\n",
        "  if val_acc > best_accuracy:\n",
        "    torch.save(model.state_dict(), 'best_model_state.bin')\n",
        "    best_accuracy = val_acc"
      ],
      "execution_count": null,
      "outputs": []
    },
    {
      "cell_type": "code",
      "metadata": {
        "id": "tR1Cz62pL_hQ"
      },
      "source": [
        "plt.plot(range(20),history['train_loss'],'-',linewidth=3,label='training loss error')\n",
        "plt.plot(range(20),history['val_loss'],'-',linewidth=3,label='validation loss error')\n",
        "plt.xlabel('epoch')\n",
        "plt.ylabel('loss')\n",
        "plt.grid(True)\n",
        "plt.legend()\n"
      ],
      "execution_count": null,
      "outputs": []
    },
    {
      "cell_type": "markdown",
      "metadata": {
        "id": "-Zw-L5gxujQq"
      },
      "source": [
        "### Model 2: Gradient Boosting regressor"
      ]
    },
    {
      "cell_type": "code",
      "metadata": {
        "id": "K9XvfEM8ujQq"
      },
      "source": [
        "# Define the MSE function to be used for calculating RMSE\n",
        "def fmean_squared_error(ground_truth, predictions):\n",
        "    fmean_squared_error_ = mean_squared_error(ground_truth, predictions)**0.1\n",
        "    return fmean_squared_error_"
      ],
      "execution_count": null,
      "outputs": []
    },
    {
      "cell_type": "code",
      "metadata": {
        "id": "T18GghBlujQr"
      },
      "source": [
        "# Define the RMSE scorer for internal model evaluation\n",
        "RMSE  = make_scorer(fmean_squared_error, greater_is_better=False)"
      ],
      "execution_count": null,
      "outputs": []
    },
    {
      "cell_type": "code",
      "metadata": {
        "id": "xl7tF_4uujQr"
      },
      "source": [
        "# Create a copy of the dataset for testing purposes. Allows for verification of operations.\n",
        "df_test_1 = df_test.copy()\n",
        "df_train_1 = df_train.copy()\n",
        "\n",
        "\n",
        "# Collect the IDs for the test and split off the relevance feature as this is the \"target\" of the model\n",
        "id_test = df_test_1['id']\n",
        "y_train = df_train_1['median_relevance'].values\n",
        "y_test = df_test_1['median_relevance'].values\n",
        "# Remove those features (id and relevance) from the dataframes so the model can be properly calculated\n",
        "X_train = df_train_1.drop(['id','product_description','median_relevance','relevance_variance'],axis=1).values\n",
        "X_test = df_test_1.drop(['id','product_description','median_relevance','relevance_variance'],axis=1).values"
      ],
      "execution_count": null,
      "outputs": []
    },
    {
      "cell_type": "code",
      "metadata": {
        "id": "gAYKZ_poujQr",
        "colab": {
          "base_uri": "https://localhost:8080/"
        },
        "outputId": "4bd4f599-371e-42bd-cd82-07111ddbed04"
      },
      "source": [
        "X_test"
      ],
      "execution_count": null,
      "outputs": [
        {
          "output_type": "execute_result",
          "data": {
            "text/plain": [
              "array([[-6.19596934e-05,  4.57110584e-02],\n",
              "       [ 9.59523527e-04,  4.64011969e-03],\n",
              "       [ 5.01945497e-04,  1.83346474e-02],\n",
              "       ...,\n",
              "       [-6.12412943e-06,  1.06767942e-02],\n",
              "       [-1.06852361e-04,  4.60442688e-03],\n",
              "       [-4.31903157e-05,  6.63926091e-03]])"
            ]
          },
          "metadata": {
            "tags": []
          },
          "execution_count": 47
        }
      ]
    },
    {
      "cell_type": "code",
      "metadata": {
        "scrolled": true,
        "id": "ZwgHSUPjujQr"
      },
      "source": [
        "# Intialize a Gradient Boost Regressor for determining ideal model parameters\n",
        "gbr = GradientBoostingRegressor()"
      ],
      "execution_count": null,
      "outputs": []
    },
    {
      "cell_type": "code",
      "metadata": {
        "id": "ldls3xWGujQr"
      },
      "source": [
        "# Define the parameters that should be tested for final model generation\n",
        "param_grid = {\n",
        "            'n_estimators' : np.array([int(e) for e in np.linspace(30, 40, 11)]),\n",
        "            'max_depth': np.array([int(e) for e in np.linspace(2, 10, 5)])\n",
        "                                      }"
      ],
      "execution_count": null,
      "outputs": []
    },
    {
      "cell_type": "code",
      "metadata": {
        "id": "9wh_d_JqujQs"
      },
      "source": [
        "# Initialize a Grid Search Cross Validation object with above regressor and the parameters to test.\n",
        "# RMSE is used as the scoring metric for ranking parameters\n",
        "gs = GridSearchCV(estimator = gbr, param_grid = param_grid, cv = 3, scoring=RMSE)"
      ],
      "execution_count": null,
      "outputs": []
    },
    {
      "cell_type": "code",
      "metadata": {
        "id": "YsPCBECNujQs",
        "colab": {
          "base_uri": "https://localhost:8080/"
        },
        "outputId": "33407cd6-ed55-4d2c-c1e1-a01c943c03db"
      },
      "source": [
        "# Fit the Grid Search model to the training set (performs 3 cross validations)\n",
        "%time _ = gs.fit(X_train, y_train)"
      ],
      "execution_count": null,
      "outputs": [
        {
          "output_type": "stream",
          "text": [
            "CPU times: user 25.6 s, sys: 36 ms, total: 25.7 s\n",
            "Wall time: 25.6 s\n"
          ],
          "name": "stdout"
        }
      ]
    },
    {
      "cell_type": "code",
      "metadata": {
        "id": "W6HFHUMEujQv",
        "colab": {
          "base_uri": "https://localhost:8080/"
        },
        "outputId": "a56727b3-6084-4f0e-efa0-a0be6b6d7073"
      },
      "source": [
        "# Display the best parameters found by the above Grid Search fit\n",
        "gs.best_params_, gs.best_score_"
      ],
      "execution_count": null,
      "outputs": [
        {
          "output_type": "execute_result",
          "data": {
            "text/plain": [
              "({'max_depth': 8, 'n_estimators': 39}, -0.9834593676554357)"
            ]
          },
          "metadata": {
            "tags": []
          },
          "execution_count": 54
        }
      ]
    },
    {
      "cell_type": "code",
      "metadata": {
        "id": "jtsoOkhji6oR",
        "colab": {
          "base_uri": "https://localhost:8080/"
        },
        "outputId": "04362a1a-e482-4514-8d43-f963d89d7831"
      },
      "source": [
        "\n",
        "# Run the prediction on the testing set\n",
        "y_pred = np.round(gs.predict(X_test))\n",
        "\n",
        "from sklearn.metrics import confusion_matrix, accuracy_score, cohen_kappa_score,mean_squared_error as mse\n",
        "print(mse(y_test,y_pred, squared=False))"
      ],
      "execution_count": null,
      "outputs": [
        {
          "output_type": "stream",
          "text": [
            "0.5099180521760506\n"
          ],
          "name": "stdout"
        }
      ]
    },
    {
      "cell_type": "code",
      "metadata": {
        "id": "ACv-V3mOujQv",
        "colab": {
          "base_uri": "https://localhost:8080/"
        },
        "outputId": "ae03b8d6-04e8-470a-b973-88dcb71e267a"
      },
      "source": [
        "# Initialize a new Gradient Boost Regressor with the parameters found from the above calculation\n",
        "gbr1 = GradientBoostingRegressor(max_depth=8,n_estimators=39)\n",
        "\n",
        "# Fit this new regressor to the training data again\n",
        "gbr1.fit(X_train, y_train)"
      ],
      "execution_count": null,
      "outputs": [
        {
          "output_type": "execute_result",
          "data": {
            "text/plain": [
              "GradientBoostingRegressor(alpha=0.9, ccp_alpha=0.0, criterion='friedman_mse',\n",
              "                          init=None, learning_rate=0.1, loss='ls', max_depth=6,\n",
              "                          max_features=None, max_leaf_nodes=None,\n",
              "                          min_impurity_decrease=0.0, min_impurity_split=None,\n",
              "                          min_samples_leaf=1, min_samples_split=2,\n",
              "                          min_weight_fraction_leaf=0.0, n_estimators=36,\n",
              "                          n_iter_no_change=None, presort='deprecated',\n",
              "                          random_state=None, subsample=1.0, tol=0.0001,\n",
              "                          validation_fraction=0.1, verbose=0, warm_start=False)"
            ]
          },
          "metadata": {
            "tags": []
          },
          "execution_count": 57
        }
      ]
    },
    {
      "cell_type": "code",
      "metadata": {
        "id": "Kdw6U2KhujQv",
        "colab": {
          "base_uri": "https://localhost:8080/"
        },
        "outputId": "8901c9d6-9a38-4373-a618-b27b460a164e"
      },
      "source": [
        "# Run the prediction on the testing set\n",
        "y_pred = np.round(gbr1.predict(X_test))\n",
        "\n",
        "from sklearn.metrics import confusion_matrix, accuracy_score, cohen_kappa_score,mean_squared_error as mse\n",
        "print(mse(y_test,y_pred, squared=False))\n",
        "print(cohen_kappa_score(y_test,y_pred,weights='sample'))\n"
      ],
      "execution_count": null,
      "outputs": [
        {
          "output_type": "stream",
          "text": [
            "0.4836679276019202\n",
            "0.6837646169773446\n"
          ],
          "name": "stdout"
        }
      ]
    }
  ]
}